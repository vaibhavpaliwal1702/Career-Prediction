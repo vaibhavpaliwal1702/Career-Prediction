{
 "cells": [
  {
   "cell_type": "code",
   "execution_count": 1,
   "metadata": {},
   "outputs": [],
   "source": [
    "import numpy as np\n",
    "import pandas as pd\n",
    "import matplotlib.pyplot as plt"
   ]
  },
  {
   "cell_type": "code",
   "execution_count": 2,
   "metadata": {},
   "outputs": [],
   "source": [
    "dataset = pd.read_csv('data.csv')"
   ]
  },
  {
   "cell_type": "code",
   "execution_count": 3,
   "metadata": {},
   "outputs": [
    {
     "data": {
      "text/html": [
       "<div>\n",
       "<style scoped>\n",
       "    .dataframe tbody tr th:only-of-type {\n",
       "        vertical-align: middle;\n",
       "    }\n",
       "\n",
       "    .dataframe tbody tr th {\n",
       "        vertical-align: top;\n",
       "    }\n",
       "\n",
       "    .dataframe thead th {\n",
       "        text-align: right;\n",
       "    }\n",
       "</style>\n",
       "<table border=\"1\" class=\"dataframe\">\n",
       "  <thead>\n",
       "    <tr style=\"text-align: right;\">\n",
       "      <th></th>\n",
       "      <th>CGPA</th>\n",
       "      <th>Did you do webdev during college time ?</th>\n",
       "      <th>Are you good at Data analysis ?</th>\n",
       "      <th>reading and writing skills</th>\n",
       "      <th>Are you a tech person ?</th>\n",
       "      <th>Were you in a non tech society ?</th>\n",
       "      <th>Are you good at coding ?</th>\n",
       "      <th>Have you developed mobile apps ?</th>\n",
       "      <th>Are you good at communication ?</th>\n",
       "      <th>Do you have specialization in security</th>\n",
       "      <th>Have you ever handled large databases ?</th>\n",
       "      <th>Do you have knowlege of statistics and data science?</th>\n",
       "      <th>Are you proficient in English ?</th>\n",
       "      <th>Have you ever managed some event?</th>\n",
       "      <th>Do you write technical blogs ?</th>\n",
       "      <th>Are you into marketing ?</th>\n",
       "      <th>Are you a ML expert ?</th>\n",
       "      <th>Do you have a lot of connections ?</th>\n",
       "      <th>Have you ever built live project ?</th>\n",
       "      <th>Role</th>\n",
       "    </tr>\n",
       "  </thead>\n",
       "  <tbody>\n",
       "    <tr>\n",
       "      <th>0</th>\n",
       "      <td>8.0</td>\n",
       "      <td>NaN</td>\n",
       "      <td>no</td>\n",
       "      <td>excellent</td>\n",
       "      <td>no</td>\n",
       "      <td>no</td>\n",
       "      <td>yes</td>\n",
       "      <td>yes</td>\n",
       "      <td>no</td>\n",
       "      <td>no</td>\n",
       "      <td>no</td>\n",
       "      <td>no</td>\n",
       "      <td>yes</td>\n",
       "      <td>no</td>\n",
       "      <td>no</td>\n",
       "      <td>no</td>\n",
       "      <td>no</td>\n",
       "      <td>no</td>\n",
       "      <td>no</td>\n",
       "      <td>Developer</td>\n",
       "    </tr>\n",
       "    <tr>\n",
       "      <th>1</th>\n",
       "      <td>8.8</td>\n",
       "      <td>yes</td>\n",
       "      <td>no</td>\n",
       "      <td>poor</td>\n",
       "      <td>yes</td>\n",
       "      <td>no</td>\n",
       "      <td>NaN</td>\n",
       "      <td>no</td>\n",
       "      <td>no</td>\n",
       "      <td>no</td>\n",
       "      <td>no</td>\n",
       "      <td>yes</td>\n",
       "      <td>NaN</td>\n",
       "      <td>no</td>\n",
       "      <td>no</td>\n",
       "      <td>no</td>\n",
       "      <td>yes</td>\n",
       "      <td>no</td>\n",
       "      <td>no</td>\n",
       "      <td>ML engineer</td>\n",
       "    </tr>\n",
       "    <tr>\n",
       "      <th>2</th>\n",
       "      <td>7.9</td>\n",
       "      <td>no</td>\n",
       "      <td>no</td>\n",
       "      <td>poor</td>\n",
       "      <td>no</td>\n",
       "      <td>yes</td>\n",
       "      <td>no</td>\n",
       "      <td>no</td>\n",
       "      <td>yes</td>\n",
       "      <td>no</td>\n",
       "      <td>no</td>\n",
       "      <td>no</td>\n",
       "      <td>yes</td>\n",
       "      <td>yes</td>\n",
       "      <td>no</td>\n",
       "      <td>no</td>\n",
       "      <td>no</td>\n",
       "      <td>no</td>\n",
       "      <td>no</td>\n",
       "      <td>Management</td>\n",
       "    </tr>\n",
       "    <tr>\n",
       "      <th>3</th>\n",
       "      <td>8.0</td>\n",
       "      <td>yes</td>\n",
       "      <td>no</td>\n",
       "      <td>medium</td>\n",
       "      <td>yes</td>\n",
       "      <td>no</td>\n",
       "      <td>yes</td>\n",
       "      <td>yes</td>\n",
       "      <td>no</td>\n",
       "      <td>no</td>\n",
       "      <td>yes</td>\n",
       "      <td>no</td>\n",
       "      <td>no</td>\n",
       "      <td>no</td>\n",
       "      <td>no</td>\n",
       "      <td>no</td>\n",
       "      <td>no</td>\n",
       "      <td>no</td>\n",
       "      <td>yes</td>\n",
       "      <td>Developer</td>\n",
       "    </tr>\n",
       "    <tr>\n",
       "      <th>4</th>\n",
       "      <td>6.4</td>\n",
       "      <td>no</td>\n",
       "      <td>no</td>\n",
       "      <td>poor</td>\n",
       "      <td>no</td>\n",
       "      <td>yes</td>\n",
       "      <td>yes</td>\n",
       "      <td>no</td>\n",
       "      <td>yes</td>\n",
       "      <td>no</td>\n",
       "      <td>no</td>\n",
       "      <td>no</td>\n",
       "      <td>yes</td>\n",
       "      <td>no</td>\n",
       "      <td>no</td>\n",
       "      <td>no</td>\n",
       "      <td>no</td>\n",
       "      <td>yes</td>\n",
       "      <td>no</td>\n",
       "      <td>Marketing</td>\n",
       "    </tr>\n",
       "  </tbody>\n",
       "</table>\n",
       "</div>"
      ],
      "text/plain": [
       "   CGPA Did you do webdev during college time ?  \\\n",
       "0   8.0                                     NaN   \n",
       "1   8.8                                     yes   \n",
       "2   7.9                                      no   \n",
       "3   8.0                                     yes   \n",
       "4   6.4                                      no   \n",
       "\n",
       "  Are you good at Data analysis ? reading and writing skills  \\\n",
       "0                              no                  excellent   \n",
       "1                              no                       poor   \n",
       "2                              no                       poor   \n",
       "3                              no                     medium   \n",
       "4                              no                       poor   \n",
       "\n",
       "  Are you a tech person ? Were you in a non tech society ?  \\\n",
       "0                      no                               no   \n",
       "1                     yes                               no   \n",
       "2                      no                              yes   \n",
       "3                     yes                               no   \n",
       "4                      no                              yes   \n",
       "\n",
       "  Are you good at coding ? Have you developed mobile apps ?  \\\n",
       "0                      yes                              yes   \n",
       "1                      NaN                               no   \n",
       "2                       no                               no   \n",
       "3                      yes                              yes   \n",
       "4                      yes                               no   \n",
       "\n",
       "  Are you good at communication ? Do you have specialization in security  \\\n",
       "0                              no                                     no   \n",
       "1                              no                                     no   \n",
       "2                             yes                                     no   \n",
       "3                              no                                     no   \n",
       "4                             yes                                     no   \n",
       "\n",
       "  Have you ever handled large databases ?  \\\n",
       "0                                      no   \n",
       "1                                      no   \n",
       "2                                      no   \n",
       "3                                     yes   \n",
       "4                                      no   \n",
       "\n",
       "  Do you have knowlege of statistics and data science?  \\\n",
       "0                                                 no     \n",
       "1                                                yes     \n",
       "2                                                 no     \n",
       "3                                                 no     \n",
       "4                                                 no     \n",
       "\n",
       "  Are you proficient in English ? Have you ever managed some event?  \\\n",
       "0                             yes                                no   \n",
       "1                             NaN                                no   \n",
       "2                             yes                               yes   \n",
       "3                              no                                no   \n",
       "4                             yes                                no   \n",
       "\n",
       "  Do you write technical blogs ? Are you into marketing ?  \\\n",
       "0                             no                       no   \n",
       "1                             no                       no   \n",
       "2                             no                       no   \n",
       "3                             no                       no   \n",
       "4                             no                       no   \n",
       "\n",
       "  Are you a ML expert ? Do you have a lot of connections ?  \\\n",
       "0                    no                                 no   \n",
       "1                   yes                                 no   \n",
       "2                    no                                 no   \n",
       "3                    no                                 no   \n",
       "4                    no                                yes   \n",
       "\n",
       "  Have you ever built live project ?         Role  \n",
       "0                                 no    Developer  \n",
       "1                                 no  ML engineer  \n",
       "2                                 no   Management  \n",
       "3                                yes    Developer  \n",
       "4                                 no    Marketing  "
      ]
     },
     "execution_count": 3,
     "metadata": {},
     "output_type": "execute_result"
    }
   ],
   "source": [
    "dataset.head()"
   ]
  },
  {
   "cell_type": "code",
   "execution_count": 4,
   "metadata": {},
   "outputs": [
    {
     "data": {
      "text/plain": [
       "(516, 20)"
      ]
     },
     "execution_count": 4,
     "metadata": {},
     "output_type": "execute_result"
    }
   ],
   "source": [
    "dataset.shape"
   ]
  },
  {
   "cell_type": "code",
   "execution_count": 5,
   "metadata": {},
   "outputs": [
    {
     "data": {
      "text/plain": [
       "CGPA                                                    0\n",
       "Did you do webdev during college time ?                 1\n",
       "Are you good at Data analysis ?                         2\n",
       "reading and writing skills                              2\n",
       "Are you a tech person ?                                 0\n",
       "Were you in a non tech society ?                        4\n",
       "Are you good at coding ?                                2\n",
       "Have you developed mobile apps ?                        2\n",
       "Are you good at communication ?                         5\n",
       "Do you have specialization in security                  3\n",
       "Have you ever handled large databases ?                 3\n",
       "Do you have knowlege of statistics and data science?    2\n",
       "Are you proficient in English ?                         2\n",
       "Have you ever managed some event?                       1\n",
       "Do you write technical blogs ?                          1\n",
       "Are you into marketing ?                                0\n",
       "Are you a ML expert ?                                   0\n",
       "Do you have a lot of connections ?                      0\n",
       "Have you ever built live project ?                      0\n",
       "Role                                                    0\n",
       "dtype: int64"
      ]
     },
     "execution_count": 5,
     "metadata": {},
     "output_type": "execute_result"
    }
   ],
   "source": [
    "missing_values_count = dataset.isnull().sum()\n",
    "missing_values_count[:]"
   ]
  },
  {
   "cell_type": "code",
   "execution_count": 6,
   "metadata": {},
   "outputs": [],
   "source": [
    "dataset = dataset.dropna()"
   ]
  },
  {
   "cell_type": "code",
   "execution_count": 7,
   "metadata": {},
   "outputs": [
    {
     "data": {
      "text/plain": [
       "(488, 20)"
      ]
     },
     "execution_count": 7,
     "metadata": {},
     "output_type": "execute_result"
    }
   ],
   "source": [
    "dataset.shape"
   ]
  },
  {
   "cell_type": "code",
   "execution_count": 8,
   "metadata": {},
   "outputs": [
    {
     "data": {
      "text/plain": [
       "CGPA                                                    0\n",
       "Did you do webdev during college time ?                 0\n",
       "Are you good at Data analysis ?                         0\n",
       "reading and writing skills                              0\n",
       "Are you a tech person ?                                 0\n",
       "Were you in a non tech society ?                        0\n",
       "Are you good at coding ?                                0\n",
       "Have you developed mobile apps ?                        0\n",
       "Are you good at communication ?                         0\n",
       "Do you have specialization in security                  0\n",
       "Have you ever handled large databases ?                 0\n",
       "Do you have knowlege of statistics and data science?    0\n",
       "Are you proficient in English ?                         0\n",
       "Have you ever managed some event?                       0\n",
       "Do you write technical blogs ?                          0\n",
       "Are you into marketing ?                                0\n",
       "Are you a ML expert ?                                   0\n",
       "Do you have a lot of connections ?                      0\n",
       "Have you ever built live project ?                      0\n",
       "Role                                                    0\n",
       "dtype: int64"
      ]
     },
     "execution_count": 8,
     "metadata": {},
     "output_type": "execute_result"
    }
   ],
   "source": [
    "missing_values_count = dataset.isnull().sum()\n",
    "missing_values_count[:]"
   ]
  },
  {
   "cell_type": "code",
   "execution_count": 9,
   "metadata": {},
   "outputs": [],
   "source": [
    "X = dataset.iloc[:,:-1].values\n",
    "Y = dataset.iloc[:,19].values"
   ]
  },
  {
   "cell_type": "code",
   "execution_count": 10,
   "metadata": {},
   "outputs": [],
   "source": [
    "from sklearn.impute import SimpleImputer\n",
    "imputer = SimpleImputer(missing_values = np.nan, strategy = 'mean')\n",
    "imputer = imputer.fit(X[:, 0:1])\n",
    "X[:,0:1] = imputer.transform(X[:,0:1])"
   ]
  },
  {
   "cell_type": "code",
   "execution_count": 11,
   "metadata": {},
   "outputs": [],
   "source": [
    "from sklearn.preprocessing import LabelEncoder, OneHotEncoder\n",
    "from sklearn.compose import ColumnTransformer\n",
    "labelencoder_X = LabelEncoder()\n",
    "X[:, 1] = labelencoder_X.fit_transform(X[:, 1])"
   ]
  },
  {
   "cell_type": "code",
   "execution_count": 12,
   "metadata": {},
   "outputs": [],
   "source": [
    "labelencoder_X = LabelEncoder()\n",
    "X[:, 2] = labelencoder_X.fit_transform(X[:, 2])"
   ]
  },
  {
   "cell_type": "code",
   "execution_count": 13,
   "metadata": {},
   "outputs": [],
   "source": [
    "labelencoder_X = LabelEncoder()\n",
    "X[:, 4] = labelencoder_X.fit_transform(X[:, 4])"
   ]
  },
  {
   "cell_type": "code",
   "execution_count": 14,
   "metadata": {},
   "outputs": [],
   "source": [
    "labelencoder_X = LabelEncoder()\n",
    "X[:, 5] = labelencoder_X.fit_transform(X[:, 5])"
   ]
  },
  {
   "cell_type": "code",
   "execution_count": 15,
   "metadata": {},
   "outputs": [],
   "source": [
    "for i in range(6,19):\n",
    "    labelencoder_X = LabelEncoder()\n",
    "    X[:, i] = labelencoder_X.fit_transform(X[:, i])"
   ]
  },
  {
   "cell_type": "code",
   "execution_count": 16,
   "metadata": {},
   "outputs": [
    {
     "data": {
      "text/plain": [
       "array([[7.9, 0, 0, ..., 0, 0, 0],\n",
       "       [8.0, 1, 0, ..., 0, 0, 1],\n",
       "       [6.4, 0, 0, ..., 0, 1, 0],\n",
       "       ...,\n",
       "       [7.9, 1, 0, ..., 0, 1, 0],\n",
       "       [8.5, 1, 1, ..., 1, 0, 0],\n",
       "       [8.0, 1, 0, ..., 0, 0, 0]], dtype=object)"
      ]
     },
     "execution_count": 16,
     "metadata": {},
     "output_type": "execute_result"
    }
   ],
   "source": [
    "X"
   ]
  },
  {
   "cell_type": "code",
   "execution_count": 17,
   "metadata": {},
   "outputs": [],
   "source": [
    "from sklearn.preprocessing import LabelEncoder, OneHotEncoder\n",
    "from sklearn.compose import ColumnTransformer\n",
    "labelencoder_X = LabelEncoder()\n",
    "X[:, 3] = labelencoder_X.fit_transform(X[:, 3])\n",
    "columntransform_X = ColumnTransformer([(\"one\", OneHotEncoder(), [3])],remainder='passthrough')"
   ]
  },
  {
   "cell_type": "code",
   "execution_count": 18,
   "metadata": {},
   "outputs": [],
   "source": [
    "from sklearn.preprocessing import LabelEncoder, OneHotEncoder\n",
    "from sklearn.compose import ColumnTransformer\n",
    "labelencoder_y = LabelEncoder()\n",
    "Y = labelencoder_y.fit_transform(Y)"
   ]
  },
  {
   "cell_type": "code",
   "execution_count": 19,
   "metadata": {},
   "outputs": [],
   "source": [
    "from sklearn.model_selection import train_test_split\n",
    "X_train, X_test, Y_train, Y_test = train_test_split(X, Y, test_size = 0.2, random_state = 0)"
   ]
  },
  {
   "cell_type": "code",
   "execution_count": 20,
   "metadata": {},
   "outputs": [],
   "source": [
    "from sklearn.ensemble import RandomForestClassifier\n",
    "classifier = RandomForestClassifier(n_estimators = 10, criterion = 'entropy', random_state = 0)\n",
    "classifier = classifier.fit(X_train, Y_train)"
   ]
  },
  {
   "cell_type": "code",
   "execution_count": 21,
   "metadata": {},
   "outputs": [],
   "source": [
    "Y_pred = classifier.predict(X_test)"
   ]
  },
  {
   "cell_type": "code",
   "execution_count": 22,
   "metadata": {},
   "outputs": [],
   "source": [
    "from sklearn.metrics import confusion_matrix\n",
    "cm = confusion_matrix(Y_test, Y_pred)"
   ]
  },
  {
   "cell_type": "code",
   "execution_count": 23,
   "metadata": {},
   "outputs": [
    {
     "data": {
      "text/plain": [
       "array([[ 8,  0,  0,  0,  0,  1,  0,  0,  0,  0],\n",
       "       [ 0, 13,  0,  0,  0,  0,  0,  0,  1,  0],\n",
       "       [ 0,  0,  5,  0,  0,  0,  1,  0,  0,  0],\n",
       "       [ 0,  0,  0,  3,  0,  0,  0,  0,  0,  0],\n",
       "       [ 0,  0,  0,  0, 25,  0,  0,  0,  1,  0],\n",
       "       [ 0,  0,  1,  0,  0,  4,  0,  0,  1,  0],\n",
       "       [ 0,  0,  0,  0,  0,  0, 11,  0,  0,  0],\n",
       "       [ 0,  0,  0,  0,  0,  0,  1, 12,  0,  0],\n",
       "       [ 0,  0,  1,  1,  1,  0,  1,  1,  1,  2],\n",
       "       [ 0,  0,  0,  0,  0,  0,  0,  0,  0,  2]], dtype=int64)"
      ]
     },
     "execution_count": 23,
     "metadata": {},
     "output_type": "execute_result"
    }
   ],
   "source": [
    "cm"
   ]
  },
  {
   "cell_type": "code",
   "execution_count": 24,
   "metadata": {},
   "outputs": [
    {
     "data": {
      "text/plain": [
       "(98,)"
      ]
     },
     "execution_count": 24,
     "metadata": {},
     "output_type": "execute_result"
    }
   ],
   "source": [
    "Y_pred.shape"
   ]
  },
  {
   "cell_type": "code",
   "execution_count": 25,
   "metadata": {},
   "outputs": [
    {
     "data": {
      "image/png": "[encoded data removed]",
      "text/plain": [
       "<Figure size 720x432 with 2 Axes>"
      ]
     },
     "metadata": {
      "needs_background": "light"
     },
     "output_type": "display_data"
    }
   ],
   "source": [
    "from sklearn.metrics import plot_confusion_matrix\n",
    "\n",
    "matrix = plot_confusion_matrix(classifier, X_test, Y_test, cmap = plt.cm.Reds)\n",
    "matrix.ax_.set_title('Confusion Matrix', color = 'white')\n",
    "plt.xlabel('Predicted Label', color = 'white')\n",
    "plt.ylabel('True Label', color = 'white')\n",
    "plt.gcf().axes[0].tick_params(color = 'white')\n",
    "plt.gcf().axes[1].tick_params(color = 'white')\n",
    "plt.gcf().set_size_inches(10,6)\n",
    "plt.show()"
   ]
  },
  {
   "cell_type": "code",
   "execution_count": 26,
   "metadata": {},
   "outputs": [
    {
     "name": "stdout",
     "output_type": "stream",
     "text": [
      "0.8571428571428571\n"
     ]
    }
   ],
   "source": [
    "print(classifier.score(X_test, Y_test))"
   ]
  },
  {
   "cell_type": "code",
   "execution_count": 27,
   "metadata": {},
   "outputs": [],
   "source": [
    "import pickle\n",
    "pickle.dump(classifier,open(\"careerPridiction.pkl\",\"wb\"))"
   ]
  },
  {
   "cell_type": "code",
   "execution_count": 28,
   "metadata": {},
   "outputs": [],
   "source": [
    "md = pickle.load(open('careerPridiction.pkl', 'rb'))"
   ]
  },
  {
   "cell_type": "code",
   "execution_count": 29,
   "metadata": {},
   "outputs": [
    {
     "name": "stdout",
     "output_type": "stream",
     "text": [
      "<class 'numpy.ndarray'>\n"
     ]
    }
   ],
   "source": [
    "input = np.array([9,1,1,1,1,1,1,1,1,1,1,1,1,1,1,1,1,1,1])\n",
    "print(type(input))"
   ]
  },
  {
   "cell_type": "code",
   "execution_count": 31,
   "metadata": {},
   "outputs": [
    {
     "name": "stdout",
     "output_type": "stream",
     "text": [
      "[4]\n"
     ]
    }
   ],
   "source": [
    "print(md.predict(input.reshape(-1,19)))"
   ]
  },
  {
   "cell_type": "code",
   "execution_count": 30,
   "metadata": {},
   "outputs": [
    {
     "name": "stdout",
     "output_type": "stream",
     "text": [
      "4\n"
     ]
    }
   ],
   "source": [
    "print(md.predict(input.reshape(-1,19))[0])"
   ]
  }
 ],
 "metadata": {
  "kernelspec": {
   "display_name": "Python 3",
   "language": "python",
   "name": "python3"
  },
  "language_info": {
   "codemirror_mode": {
    "name": "ipython",
    "version": 3
   },
   "file_extension": ".py",
   "mimetype": "text/x-python",
   "name": "python",
   "nbconvert_exporter": "python",
   "pygments_lexer": "ipython3",
   "version": "3.8.3"
  }
 },
 "nbformat": 4,
 "nbformat_minor": 4
}
